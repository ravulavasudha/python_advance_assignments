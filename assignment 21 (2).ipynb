{
 "cells": [
  {
   "cell_type": "markdown",
   "id": "43ad4705",
   "metadata": {},
   "source": [
    "### Q1. What is a probability distribution, exactly? If the values are meant to be random, how can you predict them at all ?\n",
    "Ans: A probability distribution describes how a random variable is distributed.\n",
    "\n",
    "It tells us which values a random variable is most likely to take on and which values are less likely. Based on the previous data and the occurences of the random event, we can predict the outcome in terms of probabilities.\n"
   ]
  },
  {
   "cell_type": "markdown",
   "id": "9b9743b4",
   "metadata": {},
   "source": [
    "### Q2. Is there a distinction between true random numbers and pseudo-random numbers, if there is one? Why are the latter considered “good enough”?\n",
    "Ans: : True Random Numbers are true physical values while pseudo-random numbers are generated internally by a program . Latter is considered good enough as they have sort of uniform distribution.\n"
   ]
  },
  {
   "cell_type": "markdown",
   "id": "c6a359df",
   "metadata": {},
   "source": [
    "### Q3. What are the two main factors that influence the behaviour of a \"normal\" probability distribution ?\n",
    "Ans: Normal Probability Distribution are influenced by two factors mean and the variance.\n"
   ]
  },
  {
   "cell_type": "markdown",
   "id": "341c9bb6",
   "metadata": {},
   "source": [
    "### Q4. Provide a real-life example of a normal distribution ?\n",
    "Ans: A Real-life example of a normal distribution are heights or blood pressure measurements\n"
   ]
  },
  {
   "cell_type": "markdown",
   "id": "4a31d7ef",
   "metadata": {},
   "source": [
    "### Q5. In the short term, how can you expect a probability distribution to behave? What do you think will happen as the number of trials grows ?\n",
    "Ans: Variance will decrease with number of trials\n"
   ]
  },
  {
   "cell_type": "markdown",
   "id": "5c0793f1",
   "metadata": {},
   "source": [
    "### Q6. What kind of object can be shuffled by using random.shuffle ?\n",
    "Ans: lists (list), strings (str) and tuples (tuple) objects can be shuffled by using random.shuffle.\n"
   ]
  },
  {
   "cell_type": "markdown",
   "id": "593194dc",
   "metadata": {},
   "source": [
    "### Q7. Describe the math package's general categories of functions ?\n",
    "Ans: The Math package's general categories of functions are:\n",
    "\n",
    "Trigonometric functions\n",
    "\n",
    "Quadratic functions\n",
    "\n",
    "Exponential functions\n",
    "\n",
    "Hyperbolic functions\n",
    "\n",
    "Periodic functions\n",
    "\n",
    "Arithmetic functions\n",
    "\n",
    "Logarithimic functions\n",
    "\n",
    "Conversions to Integer"
   ]
  },
  {
   "cell_type": "markdown",
   "id": "3d4e6503",
   "metadata": {},
   "source": [
    "### Q8. What is the relationship between exponentiation and logarithms ?\n",
    "Ans: Exponentiation and logarithms are inverse of each other.\n"
   ]
  },
  {
   "cell_type": "markdown",
   "id": "8a029bed",
   "metadata": {},
   "source": [
    "### Q9. What are the three logarithmic functions that Python supports ?\n",
    "Ans: The Three Logarithmic Functions that Python supports are:\n",
    "\n",
    "log2(x) - logarithmic value of x to base 2\n",
    "log10(x) - logarithmic value of x to base 10\n",
    "log1p(a) - This function is used to compute logarithm(1+a) ."
   ]
  }
 ],
 "metadata": {
  "kernelspec": {
   "display_name": "Python 3 (ipykernel)",
   "language": "python",
   "name": "python3"
  },
  "language_info": {
   "codemirror_mode": {
    "name": "ipython",
    "version": 3
   },
   "file_extension": ".py",
   "mimetype": "text/x-python",
   "name": "python",
   "nbconvert_exporter": "python",
   "pygments_lexer": "ipython3",
   "version": "3.9.7"
  }
 },
 "nbformat": 4,
 "nbformat_minor": 5
}
