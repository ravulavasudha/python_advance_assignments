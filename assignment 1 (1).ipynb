{
 "cells": [
  {
   "cell_type": "markdown",
   "id": "d9aa4642",
   "metadata": {},
   "source": [
    "### 1. What is the purpose of Python's OOP?\n",
    "Ans: \n",
    "In Python, object-oriented Programming (OOPs) uses objects and classes in programming.\n",
    "\n",
    "It aims to implement real-world entities like inheritance, polymorphisms, encapsulation, etc. in the programming.\n",
    "\n",
    "The main concept of OOPs is to bind the data and the functions that work on that together as a single unit so that no other part of the code can access this data.\n",
    "\n"
   ]
  },
  {
   "cell_type": "markdown",
   "id": "fd61de8f",
   "metadata": {},
   "source": [
    "### 2. Where does an inheritance search look for an attribute?\n",
    "Ans: Python searches for an attribute in an upward tree of attributes. it first searches for the attribute in its instance and then looks in the class it is generated from, to all super classes listed in its class header\n"
   ]
  },
  {
   "cell_type": "markdown",
   "id": "1bbe16d6",
   "metadata": {},
   "source": [
    "### 3. How do you distinguish between a class object and an instance object?\n",
    "Ans:\n",
    "Class is a template for creating objects whereas object is an instance of class\n",
    "\n",
    "Seperate memory is allocated for each object whenever an object is created. but for a class this doesnot happens.\n",
    "\n",
    "A Class is created once. Many objects are created using a class.\n",
    "\n",
    "As Classes have no allocated memory. they can't be manipulated. but objects can be manipulated."
   ]
  },
  {
   "cell_type": "markdown",
   "id": "bd5f73f8",
   "metadata": {},
   "source": [
    "### 4. What makes the first argument in a class’s method function special?\n",
    "Ans: Python Classes usually have three types of methods which are:\n",
    "\n",
    "Instance Methods (object level methods)\n",
    "\n",
    "Class Methods (class level methods)\n",
    "\n",
    "Static Methods (general utility methods)\n",
    "\n",
    "self is the first argument for instance methods. which refers to the object itself\n",
    "\n",
    "cls is the first argument for class methods which refers to the class itself"
   ]
  },
  {
   "cell_type": "markdown",
   "id": "aca57fe9",
   "metadata": {},
   "source": [
    " ### 5. What is the purpose of the init method?\n",
    "Ans: __init__ is a reseved method in python classes. It serves the role of a constructor in object oriented terminology. This method is called when an object is created from a class and it allows the class to initialize the attributes of the class\n"
   ]
  },
  {
   "cell_type": "markdown",
   "id": "1418fe5a",
   "metadata": {},
   "source": [
    "### 6. What is the process for creating a class instance?\n",
    "Ans: To create a class instance, we need to call the class by its name and pass the arguments to the class, which its init method accepts.\n"
   ]
  },
  {
   "cell_type": "markdown",
   "id": "68ad1cc1",
   "metadata": {},
   "source": [
    "Example:-    \n",
    "my_name = my_class(\"vaishnavi\",\"vaishu\") Here my_name is an instance of class my_class with attributes \"vaishnavi\" and \"Vaishu\"."
   ]
  },
  {
   "cell_type": "markdown",
   "id": "c8fd1b6d",
   "metadata": {},
   "source": [
    "### 7. What is the process for creating a class?\n",
    "\n",
    "Ans: class keyword is used to created a class in python. The syntax to create a class in python is class <classname>:\n",
    "\n",
    "Example: class shop: ➞ this creates a class called shop\n"
   ]
  },
  {
   "cell_type": "markdown",
   "id": "83d4309b",
   "metadata": {},
   "source": [
    "### 8. How would you define the superclasses of a class?\n",
    "Ans Superclass/Parent class is given as a arugment to the child class\n",
    "\n"
   ]
  }
 ],
 "metadata": {
  "kernelspec": {
   "display_name": "Python 3 (ipykernel)",
   "language": "python",
   "name": "python3"
  },
  "language_info": {
   "codemirror_mode": {
    "name": "ipython",
    "version": 3
   },
   "file_extension": ".py",
   "mimetype": "text/x-python",
   "name": "python",
   "nbconvert_exporter": "python",
   "pygments_lexer": "ipython3",
   "version": "3.9.7"
  }
 },
 "nbformat": 4,
 "nbformat_minor": 5
}
