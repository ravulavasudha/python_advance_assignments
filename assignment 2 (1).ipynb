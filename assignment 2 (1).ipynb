{
 "cells": [
  {
   "cell_type": "markdown",
   "id": "38f9f913",
   "metadata": {},
   "source": [
    "### 1. What is the relationship between classes and modules?\n",
    "Ans:\n",
    "A Python class is like an outline/blueprint/mold for creating a new object. An object is anything that you wish to  \n",
    "manipulate or change while working through the code. Every time a class object is instantiated, which is when we declare a\n",
    "variable, a new object is initiated from scratch"
   ]
  },
  {
   "cell_type": "markdown",
   "id": "d12b6e8b",
   "metadata": {},
   "source": [
    "### 2. How do you make instances and classes?\n",
    "Ans: \n",
    "For creating a class instance. we call a class by its name and pass the arguments which its __init__ method accepts.\n",
    "\n",
    "\n",
    "Whereas for creating a class, we use the Class keyword. Class keyword is followed by classname and semicolon.\n",
    "\n"
   ]
  },
  {
   "cell_type": "markdown",
   "id": "833f1255",
   "metadata": {},
   "source": [
    "### 3. Where and how should be class attributes created?\n",
    "Ans: Class attributes or Class level Attributes belong to the class itself. these attributes will be shared by all the instances of the class. Hence these attributes are usually created/defined in the top of class definiation outside all methods.\n",
    "\n",
    "Example: In the below code we are defining a class attribute called no_of_wheels which will be shared by all the instances of the class Car\n"
   ]
  },
  {
   "cell_type": "code",
   "execution_count": 2,
   "id": "31d38984",
   "metadata": {},
   "outputs": [],
   "source": [
    "class Car:\n",
    "    no_of_wheels = 4; # this is a class attribute\n",
    "    def __init__(self,color,price,engine):\n",
    "        self.color = color # All this are instance attributes\n",
    "        self.price = price\n",
    "        self.engine = engine"
   ]
  },
  {
   "cell_type": "markdown",
   "id": "ac405af5",
   "metadata": {},
   "source": [
    "### 4. Where and how are instance attributes created?\n",
    "Ans: Instances attributes are passed to the class when an object of the class is created. Unlike class attributes, instance attributes are not shared by all objects of the classs. instead each object maintains its own copy of instance attributes at object level. whereas incase of class attributes all instances of class refer to a single copy. Usually instance attributes are defined within the __init__ method of class\n"
   ]
  },
  {
   "cell_type": "markdown",
   "id": "c8960fae",
   "metadata": {},
   "source": [
    "### 5. What does the term \"self\" in a Python class mean?\n",
    "Ans: self represents the instance of the class (it represents the object itself). By using the “self” keyword we can access the attributes and methods of the class with in the class in python. It binds the attributes with the given arguments.\n"
   ]
  },
  {
   "cell_type": "markdown",
   "id": "882ff054",
   "metadata": {},
   "source": [
    "### 6. How does a Python class handle operator overloading?\n",
    "Ans: Python Classes handle operator overloading by using special methods called Magic methods. these special methods usually begin and end with __ (double underscore)"
   ]
  },
  {
   "cell_type": "markdown",
   "id": "6cce3b40",
   "metadata": {},
   "source": [
    "### 7. When do you consider allowing operator overloading of your classes?\n",
    "Ans: When we want to have different meaning for the same operator accroding to the context we use operator overloading.\n"
   ]
  },
  {
   "cell_type": "markdown",
   "id": "23e06b2b",
   "metadata": {},
   "source": [
    "### 8. What is the most popular form of operator overloading?\n",
    "Ans: The most popular form of operator overloading in python is by special methods called Magic methods. Which usually beign and end with double underscore __<method name>__.\n"
   ]
  },
  {
   "cell_type": "markdown",
   "id": "9a5e4e26",
   "metadata": {},
   "source": [
    "### 9. What are the two most important concepts to grasp in order to comprehend Python OOP code?\n",
    "Ans: Classes and objects are the two concepts to comprehend python OOP code as more formally objects are entities that represent instances of general abstract concept called class\n",
    "\n",
    "Along with classes and objects the important concepts to grasp are:\n",
    "\n",
    "Inheritence\n",
    "\n",
    "Abstraction\n",
    "\n",
    "Polymorphism\n",
    "\n",
    "Encapsulation"
   ]
  }
 ],
 "metadata": {
  "kernelspec": {
   "display_name": "Python 3 (ipykernel)",
   "language": "python",
   "name": "python3"
  },
  "language_info": {
   "codemirror_mode": {
    "name": "ipython",
    "version": 3
   },
   "file_extension": ".py",
   "mimetype": "text/x-python",
   "name": "python",
   "nbconvert_exporter": "python",
   "pygments_lexer": "ipython3",
   "version": "3.9.7"
  }
 },
 "nbformat": 4,
 "nbformat_minor": 5
}
